{
 "cells": [
  {
   "cell_type": "code",
   "execution_count": 8,
   "id": "67aed5cc",
   "metadata": {},
   "outputs": [
    {
     "ename": "SyntaxError",
     "evalue": "(unicode error) 'unicodeescape' codec can't decode bytes in position 0-1: truncated \\UXXXXXXXX escape (Temp/ipykernel_21824/1015418935.py, line 4)",
     "output_type": "error",
     "traceback": [
      "\u001b[1;36m  File \u001b[1;32m\"C:\\Users\\rokat\\AppData\\Local\\Temp/ipykernel_21824/1015418935.py\"\u001b[1;36m, line \u001b[1;32m4\u001b[0m\n\u001b[1;33m    wb = load_workbook('\\Users\\rokat\\python\\data_analysis_lab.xlsx')\u001b[0m\n\u001b[1;37m                                                                   ^\u001b[0m\n\u001b[1;31mSyntaxError\u001b[0m\u001b[1;31m:\u001b[0m (unicode error) 'unicodeescape' codec can't decode bytes in position 0-1: truncated \\UXXXXXXXX escape\n"
     ]
    }
   ],
   "source": [
    "from matplotlib import pyplot\n",
    "from openpyxl import load_workbook\n",
    "\n",
    "wb = load_workbook('\\Users\\rokat\\python\\data_analysis_lab.xlsx')\n",
    "sheet = wb['Data']\n",
    "\n",
    "wb"
   ]
  },
  {
   "cell_type": "code",
   "execution_count": null,
   "id": "372de0a0",
   "metadata": {},
   "outputs": [],
   "source": []
  }
 ],
 "metadata": {
  "kernelspec": {
   "display_name": "Python 3 (ipykernel)",
   "language": "python",
   "name": "python3"
  },
  "language_info": {
   "codemirror_mode": {
    "name": "ipython",
    "version": 3
   },
   "file_extension": ".py",
   "mimetype": "text/x-python",
   "name": "python",
   "nbconvert_exporter": "python",
   "pygments_lexer": "ipython3",
   "version": "3.9.7"
  }
 },
 "nbformat": 4,
 "nbformat_minor": 5
}
